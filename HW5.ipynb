{
 "cells": [
  {
   "cell_type": "code",
   "execution_count": null,
   "source": [
    "import json\r\n",
    "\r\n",
    "data = []\r\n",
    "endata = []\r\n",
    "chdata = []\r\n",
    "\r\n",
    "for line in open('test.txt', 'r', encoding='utf-8'):\r\n",
    "    # val = re.sub(r,' ',line)\r\n",
    "    data.append(json.loads(line))  \r\n",
    "    \r\n",
    "print('----------')\r\n",
    "\r\n",
    "for i in range(len(data)):\r\n",
    "    endata.append(data[i]['english'])\r\n",
    "    chdata.append('@'+data[i]['chinese']+'。')\r\n",
    "\r\n",
    "en_vocab = set(''.join(endata))\r\n",
    "id2en = list(en_vocab)\r\n",
    "en2id = {c:i for i,c in enumerate(id2en)}\r\n",
    "\r\n",
    "# 分別生成中英文字典\r\n",
    "ch_vocab = set(''.join(chdata))\r\n",
    "id2ch = list(ch_vocab)\r\n",
    "ch2id = {c:i for i,c in enumerate(id2ch)}\r\n",
    "\r\n",
    "print('\\n中文數據:\\n', chdata)\r\n"
   ],
   "outputs": [],
   "metadata": {}
  }
 ],
 "metadata": {
  "orig_nbformat": 4,
  "language_info": {
   "name": "python"
  }
 },
 "nbformat": 4,
 "nbformat_minor": 2
}