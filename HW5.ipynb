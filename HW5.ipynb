{
 "cells": [
  {
   "cell_type": "code",
   "execution_count": 5,
   "source": [
    "import json\r\n",
    "\r\n",
    "data = []\r\n",
    "endata = []\r\n",
    "chdata = []\r\n",
    "\r\n",
    "for line in open('test.txt', 'r', encoding='utf-8'):\r\n",
    "    # val = re.sub(r,' ',line)\r\n",
    "    data.append(json.loads(line))  \r\n",
    "    \r\n",
    "print('----------')\r\n",
    "\r\n",
    "for i in range(len(data)):\r\n",
    "    endata.append(data[i]['english'])\r\n",
    "    chdata.append('@'+data[i]['chinese']+'。')\r\n",
    "\r\n",
    "en_vocab = set(''.join(endata))\r\n",
    "id2en = list(en_vocab)\r\n",
    "en2id = {c:i for i,c in enumerate(id2en)}\r\n",
    "\r\n",
    "# 分別生成中英文字典\r\n",
    "ch_vocab = set(''.join(chdata))\r\n",
    "id2ch = list(ch_vocab)\r\n",
    "ch2id = {c:i for i,c in enumerate(id2ch)}\r\n",
    "\r\n",
    "print('\\n中文數據:\\n', chdata)\r\n"
   ],
   "outputs": [
    {
     "output_type": "stream",
     "name": "stdout",
     "text": [
      "----------\n",
      "\n",
      "中文數據:\n",
      " ['@为了更好的锐度，但是附带的会多一些颗粒度，可以使用这个显影剂的1：1稀释液。。', '@他还把宣扬自己思想的所谓《绿皮书》称作“新福音书”。。', '@微风推着我去爱抚它的长耳朵。', '@它们的先烈们的鲜血是白流了…。', '@最后，在1月31日，湖人将前往汽车城底特律挑战活塞队，活塞近来在东部排名第二。。', '@“真是天造地设的一对——我父亲喜欢结交名人，杰姬酷爱金钱，”亚历山大在婚礼上讥讽道。他和克里斯蒂娜从未同他们的继母和睦相处过。。', '@2006年，沃尔玛的推荐引擎竟将《人猿星球》与马丁·路德·金的记录片配成了一对，为此沃尔玛遭到了种族歧视的指控。。', '@通过电子探针显微分析确定贫化渣中主要铜相为冰铜相。。', '@吉姆靠给人擦皮鞋为生。。']\n"
     ]
    }
   ],
   "metadata": {}
  },
  {
   "cell_type": "code",
   "execution_count": 6,
   "source": [
    "en_num_data = [[en2id[en] for en in line ] for line in endata]\r\n",
    "ch_num_data = [[ch2id[ch] for ch in line] for line in chdata]\r\n",
    "de_num_data = [[ch2id[ch] for ch in line][1:] for line in chdata]\r\n",
    "\r\n",
    "print('char:', endata[1])\r\n",
    "print('index:', en_num_data[1])\r\n",
    "print(len(en_num_data))\r\n",
    "len(ch_num_data)\r\n",
    "# de_num_data"
   ],
   "outputs": [
    {
     "output_type": "stream",
     "name": "stdout",
     "text": [
      "char: He calls the Green Book, his book of teachings, “the new gospel.\n",
      "index: [30, 54, 18, 40, 6, 35, 35, 33, 18, 9, 43, 54, 18, 12, 0, 54, 54, 39, 18, 37, 59, 59, 27, 51, 18, 43, 58, 33, 18, 29, 59, 59, 27, 18, 59, 49, 18, 9, 54, 6, 40, 43, 58, 39, 3, 33, 51, 18, 1, 9, 43, 54, 18, 39, 54, 32, 18, 3, 59, 33, 20, 54, 35, 10]\n",
      "9\n"
     ]
    },
    {
     "output_type": "execute_result",
     "data": {
      "text/plain": [
       "9"
      ]
     },
     "metadata": {},
     "execution_count": 6
    }
   ],
   "metadata": {}
  },
  {
   "cell_type": "code",
   "execution_count": 7,
   "source": [
    "import numpy as np\r\n",
    "\r\n",
    "max_encoder_seq_length = max([len(txt) for txt in en_num_data])\r\n",
    "max_decoder_seq_length = max([len(txt) for txt in ch_num_data])\r\n",
    "print('max encoder length:', max_encoder_seq_length)\r\n",
    "print('max decoder length:', max_decoder_seq_length)\r\n",
    "\r\n",
    "# 將數據進行onehot處理\r\n",
    "encoder_input_data = np.zeros((len(en_num_data), max_encoder_seq_length, len(en2id)), dtype='float32')\r\n",
    "decoder_input_data = np.zeros((len(ch_num_data), max_decoder_seq_length, len(ch2id)), dtype='float32')\r\n",
    "decoder_target_data = np.zeros((len(ch_num_data), max_decoder_seq_length, len(ch2id)), dtype='float32')\r\n",
    "\r\n",
    "for i in range(len(ch_num_data)):\r\n",
    "    for t, j in enumerate(en_num_data[i]):\r\n",
    "        encoder_input_data[i, t, j] = 1.\r\n",
    "    for t, j in enumerate(ch_num_data[i]):\r\n",
    "        decoder_input_data[i, t, j] = 1.\r\n",
    "    for t, j in enumerate(de_num_data[i]):\r\n",
    "        decoder_target_data[i, t, j] = 1.\r\n",
    "\r\n",
    "print('index data:\\n', en_num_data[1])\r\n",
    "print('one hot data:\\n', encoder_input_data[1])"
   ],
   "outputs": [
    {
     "output_type": "stream",
     "name": "stdout",
     "text": [
      "max encoder length: 165\n",
      "max decoder length: 65\n",
      "index data:\n",
      " [30, 54, 18, 40, 6, 35, 35, 33, 18, 9, 43, 54, 18, 12, 0, 54, 54, 39, 18, 37, 59, 59, 27, 51, 18, 43, 58, 33, 18, 29, 59, 59, 27, 18, 59, 49, 18, 9, 54, 6, 40, 43, 58, 39, 3, 33, 51, 18, 1, 9, 43, 54, 18, 39, 54, 32, 18, 3, 59, 33, 20, 54, 35, 10]\n",
      "one hot data:\n",
      " [[0. 0. 0. ... 0. 0. 0.]\n",
      " [0. 0. 0. ... 0. 0. 0.]\n",
      " [0. 0. 0. ... 0. 0. 0.]\n",
      " ...\n",
      " [0. 0. 0. ... 0. 0. 0.]\n",
      " [0. 0. 0. ... 0. 0. 0.]\n",
      " [0. 0. 0. ... 0. 0. 0.]]\n"
     ]
    }
   ],
   "metadata": {}
  }
 ],
 "metadata": {
  "orig_nbformat": 4,
  "language_info": {
   "name": "python",
   "version": "3.9.6",
   "mimetype": "text/x-python",
   "codemirror_mode": {
    "name": "ipython",
    "version": 3
   },
   "pygments_lexer": "ipython3",
   "nbconvert_exporter": "python",
   "file_extension": ".py"
  },
  "kernelspec": {
   "name": "python3",
   "display_name": "Python 3.9.6 64-bit"
  },
  "interpreter": {
   "hash": "2647ea34e536f865ab67ff9ddee7fd78773d956cec0cab53c79b32cd10da5d83"
  }
 },
 "nbformat": 4,
 "nbformat_minor": 2
}